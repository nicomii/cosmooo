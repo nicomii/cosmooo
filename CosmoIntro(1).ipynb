{
 "cells": [
  {
   "cell_type": "markdown",
   "metadata": {},
   "source": [
    "# 1. Cosmology Introduction\n",
    "\n",
    "This notebook will step you through some of the simple steps needed to calculate and plot the expansion of the universe as a function of time. \n",
    "\n",
    "You can download this as a Jupyter Notebook from https://github.com/AstroUQ/PHYS3080/tree/main/cosmo/docs/notebooks (click on the file, when it opens right click on \"Raw\" then \"Save Link As...\").\n",
    "\n"
   ]
  },
  {
   "cell_type": "markdown",
   "metadata": {},
   "source": [
    "## 1.1 How old is the universe?\n",
    "\n",
    "In order to calculate how the expansion of the universe changes with time one needs to integrate over the changing expansion history.  \n",
    "\n",
    "We define an overdot to mean differentiation with respect to time: $\\dot{a}=da/dt$.  Which means that,\n",
    "    \n",
    "\\begin{equation} \\int_0^t dt = \\int_0^a \\frac{da}{\\dot{a}}. \\end{equation}\n",
    "\n",
    "That is convenient because we know an equation for $\\dot{a}$ as a function of $a$, Friedmann's equation!  Let's start with a simple flat matter-dominated universe, for which Friedmann's equation gives,\n",
    "\n",
    "$$ \\dot{a} = H_0 a^{-1/2}. $$\n",
    "\n",
    "It's easy to show analytically that in this flat matter dominated case the integral above for scalefactor as a function of time becomes, \n",
    "\n",
    "$$ t = \\frac{2}{3H_0}a^{3/2}. $$\n",
    "\n",
    "For more complex models there's no simple analytic solution, so we will want to do that numerically.  Let's see how to do it numerically in this simple case first.\n"
   ]
  },
  {
   "cell_type": "code",
   "execution_count": 1,
   "metadata": {},
   "outputs": [
    {
     "name": "stdout",
     "output_type": "stream",
     "text": [
      "Hubble time =  13.976165695516954 Gyr\n",
      "Hubble time = 13.98 Gyr\n"
     ]
    }
   ],
   "source": [
    "# First let's set up our packages\n",
    "import numpy as np\n",
    "from matplotlib import pyplot as plt\n",
    "from scipy import integrate\n",
    "\n",
    "# And set some constants\n",
    "c = 299792.458 # km/s (speed of light)\n",
    "\n",
    "H0kmsmpc = 70.  # Hubble constant in km/s/Mpc\n",
    "H0s = H0kmsmpc * 3.2408e-20 # H0 in inverse seconds is H0 in km/s/Mpc * (3.2408e-20 Mpc/km)\n",
    "H0y = H0s * 3.154e7 * 1.e9 # H0 in inverse Giga years is H0 in inverse seconds * (3.154e7 seconds/year) * (1e9 years / Giga year)\n",
    "print('Hubble time = ',1/H0y,'Gyr')\n",
    "\n",
    "# Let's format that to a more appropriate number of significant figures.  \n",
    "# The first % means put the variable here.  The .2f means make it a float with 2 decimal places.\n",
    "print('Hubble time = %.2f Gyr'%(1/H0y))"
   ]
  },
  {
   "cell_type": "code",
   "execution_count": 2,
   "metadata": {},
   "outputs": [
    {
     "name": "stdout",
     "output_type": "stream",
     "text": [
      "Age of the universe in Hubble times = 0.667 which is 9.32 Gyr\n",
      "Does this match the analytic prediction of 2/3 Hubble times?  Yes!\n",
      "\n",
      "Uncertainty on the numerical integral is  7.401486830834379e-16 so should be negligible.\n",
      "Just checking that the one-step age calculation (9.32 Gyr) matches the two step one (9.32 Gyr).\n"
     ]
    }
   ],
   "source": [
    "# Write a function for the integrand, i.e. $1/\\dot{a}$ (adot inverse)\n",
    "# I'm going to keep the constant H_0 outside the integral and add it later.\n",
    "def adotinv_flatmatter(a):\n",
    "    return np.sqrt(a) \n",
    "\n",
    "# First note some weird python notation, if you say \"x, y = 1, 2\" it's the same as saying \"x=1\" and \"y=2\".\n",
    "\n",
    "# Now integrate that equation from scalefactor 0 to 1 (as an example) which will give the age of the universe today (because we define a so that a=1 today):\n",
    "age_Hubble, uncert = integrate.quad(adotinv_flatmatter,0,1) \n",
    "# This returns age in Hubble times, and the uncertainty in the numerical integral\n",
    "\n",
    "# Convert that to billions of years\n",
    "age_Gyr = age_Hubble/H0y # Age in Gyr\n",
    "\n",
    "print('Age of the universe in Hubble times = %.3f which is %.2f Gyr'%(age_Hubble,age_Gyr))\n",
    "print('Does this match the analytic prediction of 2/3 Hubble times?  Yes!')\n",
    "print('')\n",
    "print('Uncertainty on the numerical integral is ', uncert, 'so should be negligible.') # It's good to check this to check that the integral has succeeded.\n",
    "\n",
    "# Note, to get just the age without the uncertainty you can use [0] to get the first element that's returned,\n",
    "# and then you can also divide by H0y immediately to get the age in one step\n",
    "age_Gyr_easier = integrate.quad(adotinv_flatmatter,0,1)[0] / H0y \n",
    "\n",
    "print('Just checking that the one-step age calculation (%.2f Gyr) matches the two step one (%.2f Gyr).'%(age_Gyr_easier,age_Gyr))\n",
    "\n"
   ]
  },
  {
   "cell_type": "markdown",
   "metadata": {},
   "source": [
    "### 1.1.1 For you!\n",
    "Now you can have a go and change the limits of the integral so you can measure different times.  \n",
    "For example how old was the universe when it was half its current size?  \n",
    "How long will it take to expand from now to twice it's current size?"
   ]
  },
  {
   "cell_type": "code",
   "execution_count": 3,
   "metadata": {},
   "outputs": [],
   "source": [
    "# Insert your code here\n",
    "age_half_Gyr = 'Your code'\n",
    "age_double_Gyr = 'Your code'\n",
    "\n",
    "# Remember to write print statements to see the answers. \n",
    "\n",
    "\n"
   ]
  },
  {
   "cell_type": "markdown",
   "metadata": {},
   "source": [
    "## 1.2 Scalefactor vs time\n",
    "\n",
    "Now let's try to calculate the time not just at one value of scalefactor, but a whole array.  We can then make a plot of scalefactor vs time."
   ]
  },
  {
   "cell_type": "code",
   "execution_count": 4,
   "metadata": {},
   "outputs": [
    {
     "name": "stdout",
     "output_type": "stream",
     "text": [
      "a_arr= [0.  0.1 0.2 0.3 0.4 0.5 0.6 0.7 0.8 0.9 1.  1.1 1.2 1.3 1.4 1.5 1.6 1.7\n",
      " 1.8 1.9 2. ]\n"
     ]
    }
   ],
   "source": [
    "# Start by making an array of scalefactors\n",
    "astart = 0.0\n",
    "astop = 2.1\n",
    "astep = 0.1 # Make this finer to make the plot smoother\n",
    "a_arr = np.arange(astart,astop,astep)\n",
    "print('a_arr=',a_arr)"
   ]
  },
  {
   "cell_type": "code",
   "execution_count": 5,
   "metadata": {},
   "outputs": [
    {
     "data": {
      "image/png": "[encoded data removed]",
      "text/plain": [
       "<Figure size 432x288 with 1 Axes>"
      ]
     },
     "metadata": {
      "needs_background": "light"
     },
     "output_type": "display_data"
    }
   ],
   "source": [
    "# First set up an array of times (initially all set to zero) into which we'll put our calculated times\n",
    "t_Gyr = np.zeros(len(a_arr))  # len(a_arr) gives the length of the a_arr \n",
    "\n",
    "# Make a loop and do that integral for every final value of a (starting at a=0 every time)\n",
    "for i,a_end in enumerate(a_arr): # enumerate adds an index to each value\n",
    "    t_Hubble,uncert = integrate.quad(adotinv_flatmatter,0,a_end)\n",
    "    t_Gyr[i] = t_Hubble/H0y\n",
    "\n",
    "# It's good practise to compare it to the analytic calculation when available\n",
    "t_analytic_Gyr = 'Add the analytic equation from above here (and uncomment the plotting line for it below)'\n",
    "    \n",
    "plt.plot(t_Gyr,a_arr)\n",
    "plt.plot(age_Gyr, 1.0,'o') # Put a dot at the current time\n",
    "#plt.plot(t_analytic_Gyr, a_arr,':',color='red')\n",
    "plt.xlabel('Time (Gyr)')\n",
    "plt.ylabel('Scalefactor')\n",
    "plt.show()"
   ]
  },
  {
   "cell_type": "code",
   "execution_count": 6,
   "metadata": {},
   "outputs": [
    {
     "data": {
      "image/png": "[encoded data removed]",
      "text/plain": [
       "<Figure size 432x288 with 1 Axes>"
      ]
     },
     "metadata": {
      "needs_background": "light"
     },
     "output_type": "display_data"
    }
   ],
   "source": [
    "# You might be interested to know that python has some shortcuts.  The whole step above (except the plotting) can be done in one line:\n",
    "t2_Gyr = np.array([integrate.quad(adotinv_flatmatter, 0, a_end)[0] for a_end in a_arr])/H0y\n",
    "\n",
    "plt.plot(t_Gyr,a_arr,label='longhand') # Plot original from above\n",
    "plt.plot(t2_Gyr,a_arr,'--',color='black',label='shortcut') # Plot new one-line calculation to show it is the same\n",
    "#plt.plot(t_analytic_Gyr, a_arr,':',color='red',label='analytic')\n",
    "plt.plot(age_Gyr, 1.0,'o',label='today') # Put a dot at the current time\n",
    "plt.xlabel('Time (Gyr)')\n",
    "plt.ylabel('Scalefactor')\n",
    "plt.legend(frameon=False)\n",
    "plt.show()"
   ]
  },
  {
   "cell_type": "markdown",
   "metadata": {},
   "source": [
    "### 1.2.1 Lookback time - for you\n",
    "It can be useful to normalise time to be 0 at the present day, then everything in the past is a negative time relative to today.   You can do that by setting the lower limit of the integral to a=1.0, then all times are measured relative to the present time."
   ]
  },
  {
   "cell_type": "code",
   "execution_count": 7,
   "metadata": {},
   "outputs": [],
   "source": [
    "t_lookback_Gyr = 'Your code here'\n",
    "\n",
    "# Uncomment the commands below to plot your result\n",
    "#plt.plot(t_lookback_Gyr,a_arr) \n",
    "#plt.axvline(x=0,linestyle=':') # Plot some crosshairs \n",
    "#plt.axhline(y=1,linestyle=':')\n",
    "#plt.plot(0.0, 1.0,'o') # Put a dot at the current time\n",
    "#plt.xlabel('Lookback time (Gyr)')\n",
    "#plt.ylabel('Scalefactor')\n",
    "#plt.show()"
   ]
  },
  {
   "cell_type": "markdown",
   "metadata": {},
   "source": [
    "### 1.2.2 Another way to calculate lookback time\n",
    "If you don't want to do the integral again (integrals can be computationally expensive) you can find the time closest to the present day by finding the index closest to a=1.0, and subtracting that time from all the times in the array.  Give that a go..."
   ]
  },
  {
   "cell_type": "code",
   "execution_count": 8,
   "metadata": {},
   "outputs": [],
   "source": [
    "# First calculate the index corresponding to a=1.0.  (Find when |a-1.0| is minimum.  You could also do this by just redoing the integral from 0<a<1, but the way I've set it up above we know we have an a=1 in the array, so we can just find what we've already calculated.)\n",
    "index_today = np.argmin(np.abs(a_arr - 1.0))\n",
    "\n",
    "# Then find the time corresponding to that index  (note you do NOT have to do the integral again)\n",
    "age_today = 'Your code here' \n",
    "\n",
    "t2_lookback_Gyr = 'Your code here'\n",
    "\n",
    "# Uncomment the commands below to plot your result\n",
    "#plt.plot(t2_lookback_Gyr,a_arr) \n",
    "#plt.axvline(x=0,linestyle=':') # Plot some crosshairs \n",
    "#plt.axhline(y=1,linestyle=':')\n",
    "#plt.plot(0.0, 1.0,'o') # Put a dot at the current time\n",
    "#plt.xlabel('Lookback time (Gyr)')\n",
    "#plt.ylabel('Scalefactor')\n",
    "#plt.show()\n"
   ]
  },
  {
   "cell_type": "markdown",
   "metadata": {},
   "source": [
    "## 1.3 More complex models\n",
    "\n",
    "In general Friedmann's equation gives,\n",
    "\n",
    "$$ H(a)^2\\equiv \\frac{\\dot{a}^2}{a^2} = H_0^2 \\sum_i \\Omega_i a^{-3(1+w_i)}, $$\n",
    "\n",
    "where the $\\Omega_i$ correspond to different components of the universe (like matter) and $w_i$ are the corresponding equations of state. \n",
    "\n",
    "Writing that out more fully we should consider \n",
    "matter density $\\Omega_M$ (includes normal and dark matter and $w_M=0$); \n",
    "curvature $\\Omega_K=1.0-\\Omega_M-\\Omega_\\Lambda$ ($w_K=-1/3$);\n",
    "and cosmological constant $\\Omega_\\Lambda$ ($w_\\Lambda=-1$).  \n",
    "\n",
    "Later we'll consider a more general dark energy $\\Omega_x$ ($w_x=$ unknown), and also add radiation density $\\Omega_R$ ($w_R=1/3$). \n",
    "\n",
    "Expanding the sum above for a universe with matter and a cosmological constant we get,\n",
    "$$ \\frac{\\dot{a}}{a} = H_0 \\left[\\Omega_M a^{-3}+\\Omega_K a^{-2} + \\Omega_\\Lambda \\right]^{1/2}. $$\n",
    "\n",
    "Now let's integrate this more complex function."
   ]
  },
  {
   "cell_type": "code",
   "execution_count": 9,
   "metadata": {},
   "outputs": [],
   "source": [
    "# First write a function that takes as input a, Omega_M (om), and Omega_Lambda (ol) and outputs 1/adot\n",
    "def adotinv(a,om,ol):\n",
    "    adot='Your code here (Remember to keep H_0 separate i.e. just calculate adot/H_0.)'\n",
    "    return 1.0/adot"
   ]
  },
  {
   "cell_type": "code",
   "execution_count": 1,
   "metadata": {},
   "outputs": [],
   "source": [
    "# Calculate for the universe we think we live in, with approximately matter density 0.3 and cosmological constant 0.7\n",
    "om = 0.1\n",
    "ol = 1.3\n",
    "\n",
    "# Note that when you integrate something with more than one argument you pass it with args=(arg1,arg2) in the integrate function\n",
    "# e.g. \"integrate.quad(adotinv, lower_limit, uper_limit, args=(om,ol))\"\"\n",
    "t_lookback_Gyr = 'Your code here'\n",
    "\n",
    "# Uncomment these commands to plot this new model (note I've added a label that can be used in the legend)\n",
    "#plt.plot(t_lookback_Gyr,a_arr,label='$(\\Omega_M,\\Omega_\\Lambda)$=(%.2f,%.2f)'%(om,ol)) \n",
    "#plt.axvline(x=0,linestyle=':') # Plot some crosshairs \n",
    "#plt.axhline(y=1,linestyle=':')\n",
    "#plt.xlabel('Lookback time (Gyr)')\n",
    "#plt.ylabel('Scalefactor')\n",
    "#plt.legend(loc='lower right',frameon=False)\n",
    "#plt.show()"
   ]
  },
  {
   "cell_type": "markdown",
   "metadata": {},
   "source": [
    "### 1.3.1 Your turn!  Build your own universes!\n",
    "Change the input matter density and cosmological constant.\n",
    " - Can you make a universe that recollapses?\n",
    " - What about one that has a bounce instead of a Big Bang in the past?\n",
    " - What about one that always decelerates but never recollapses?\n",
    " - Can you find any really weird behaviour?  If so can you explain it?"
   ]
  },
  {
   "cell_type": "markdown",
   "metadata": {},
   "source": [
    "### 1.3.2 Plot many universes on the same plot\n",
    "Now you can take that all and put it in a loop if you like, to compare different universes:\n"
   ]
  },
  {
   "cell_type": "code",
   "execution_count": 15,
   "metadata": {
    "scrolled": true
   },
   "outputs": [],
   "source": [
    "om_arr = np.arange(0.1,2.1,0.4)\n",
    "ol = 0.7\n",
    "\n",
    "for om in om_arr:\n",
    "    t_lookback_Gyr = 'Your code here'\n",
    "#    plt.plot(t_lookback_Gyr,a_arr,label='$(\\Omega_M,\\Omega_\\Lambda)$=(%.1f,%.1f)'%(om,ol))\n",
    "    \n",
    "#plt.axvline(x=0,linestyle=':') # Plot some crosshairs \n",
    "#plt.axhline(y=1,linestyle=':')\n",
    "#plt.xlabel('Lookback time (Gyr)')\n",
    "#plt.ylabel('Scalefactor')\n",
    "#plt.legend(loc='lower right',frameon=False)\n",
    "#plt.show()"
   ]
  },
  {
   "cell_type": "markdown",
   "metadata": {},
   "source": [
    "### 1.3.3 Your turn!  Add even more complex models...\n",
    "Congratulations, you can now calculate how the expansion of the universe proceeds with time! \n",
    "\n",
    "From here you can play with the input parameters.  What happens when you:\n",
    " - fix the cosmological constant and change matter density?\n",
    " - add radiation?\n",
    " - add dark energy with a different equation of state?\n",
    "\n",
    "You might find it useful to make a more general `adotinv` function that takes into account all these possibilities."
   ]
  },
  {
   "cell_type": "code",
   "execution_count": null,
   "metadata": {},
   "outputs": [],
   "source": []
  }
 ],
 "metadata": {
  "kernelspec": {
   "display_name": "Python 3 (ipykernel)",
   "language": "python",
   "name": "python3"
  },
  "language_info": {
   "codemirror_mode": {
    "name": "ipython",
    "version": 3
   },
   "file_extension": ".py",
   "mimetype": "text/x-python",
   "name": "python",
   "nbconvert_exporter": "python",
   "pygments_lexer": "ipython3",
   "version": "3.7.13"
  }
 },
 "nbformat": 4,
 "nbformat_minor": 2
}
