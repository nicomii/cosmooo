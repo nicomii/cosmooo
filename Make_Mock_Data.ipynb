{
 "cells": [
  {
   "cell_type": "markdown",
   "metadata": {},
   "source": [
    "# 4. Generating mock data\n",
    "\n",
    "This notebook shows how the supernova data is generated.  You don't actually need to use this, it's just here to show you how it is done.\n"
   ]
  },
  {
   "cell_type": "markdown",
   "metadata": {},
   "source": [
    "### 4.1. First set the constants and load packages."
   ]
  },
  {
   "cell_type": "code",
   "execution_count": 8,
   "metadata": {},
   "outputs": [],
   "source": [
    "# First let's set up our packages\n",
    "import numpy as np\n",
    "from matplotlib import pyplot as plt\n",
    "from scipy import integrate\n",
    "from numpy.random import default_rng as rand\n",
    "\n",
    "# And set some constants\n",
    "c = 299792.458 # km/s (speed of light)\n",
    "H0kmsmpc = 70.  # Hubble constant in km/s/Mpc"
   ]
  },
  {
   "cell_type": "markdown",
   "metadata": {},
   "source": [
    "### 4.2. Then write the functions we'll need.\n",
    "\n",
    "We need to know the distance modulus as a function of redshift.  Distance modulus is defined as \n",
    "\\begin{equation} \\mu(z) = 5 \\log_{10}(D_L)\\end{equation}\n",
    "where\n",
    "\\begin{equation} D_L = R_0 S_k(\\chi) (1+z) \\end{equation}\n",
    "and $S_k(\\chi)=\\sin(\\chi), \\chi,\\; {\\rm or}\\; \\sinh(\\chi)$ for closed, flat, and open universes respectively, and\n",
    "\\begin{equation} \\chi = \\frac{c}{R_0H_0}\\int_0^z \\frac{dz}{E(z)}\\end{equation}\n",
    "with $E(z)=H(z)/H_0$."
   ]
  },
  {
   "cell_type": "code",
   "execution_count": 178,
   "metadata": {},
   "outputs": [],
   "source": [
    "# Write a function for the integrand, i.e. $1/E(z)$,\n",
    "def ezinv(z,om=0.3,ox=0.7,w0=-1.0,wa=0.0,orr=0.0):\n",
    "    ok = 1.-om-ox-orr\n",
    "    ### CODE HERE HIDDEN ###\n",
    "    return 1./ez\n",
    "\n",
    "def Sk(xx, ok):\n",
    "    if ok < 0.0:\n",
    "        dk = np.sin(np.sqrt(-ok)*xx)/np.sqrt(-ok)\n",
    "    elif ok > 0.0:\n",
    "        dk = np.sinh(np.sqrt(ok)*xx)/np.sqrt(ok)\n",
    "    else:\n",
    "        dk = xx\n",
    "    return dk\n",
    "\n",
    "def dist_mod(zs,om=0.3,ox=0.7,w0=-1.0,wa=0.0,orr=0.0):\n",
    "    \"\"\" Calculate the distance modulus, correcting for curvature\"\"\"\n",
    "    ok = 1.0 - om - ox\n",
    "    xx = np.array([integrate.quad(ezinv, 0, z, args=(om, ox, w0, wa, orr))[0] for z in zs])\n",
    "    D = Sk(xx, ok)\n",
    "    lum_dist = D * (1 + zs) \n",
    "    dist_mod = 5 * np.log10(lum_dist) # Distance modulus\n",
    "    # Add an arbitrary constant that's approximately the log of c on Hubble constant minus absolute magnitude of -19.5\n",
    "    dist_mod = dist_mod + np.log(c/H0kmsmpc)-(-19.5)  # You can actually skip this step and it won't make a difference to our fitting\n",
    "    return dist_mod"
   ]
  },
  {
   "cell_type": "code",
   "execution_count": 198,
   "metadata": {},
   "outputs": [],
   "source": [
    "### Define the cosmological model!  (This will change for each data set you want to generate.)\n",
    "\n",
    "om=0.3  # Matter density\n",
    "ox=0.7  # Dark Energy density\n",
    "orr=0.0 # Radiation density\n",
    "w0=-1.0 # Dark Energy equation of state\n",
    "wa=-0.0  # Linear change with scalefactor of dark energy equation of state\n",
    "\n",
    "model_name='Data0'"
   ]
  },
  {
   "cell_type": "markdown",
   "metadata": {},
   "source": [
    "### 4.3. Now generate some perfect data according to the theory."
   ]
  },
  {
   "cell_type": "code",
   "execution_count": 199,
   "metadata": {},
   "outputs": [
    {
     "data": {
      "image/png": "[encoded data removed]",
      "text/plain": [
       "<Figure size 432x288 with 1 Axes>"
      ]
     },
     "metadata": {
      "needs_background": "light"
     },
     "output_type": "display_data"
    },
    {
     "name": "stdout",
     "output_type": "stream",
     "text": [
      "0.06945931006937488\n"
     ]
    }
   ],
   "source": [
    "# Generate some random redshifts between 0.02 < z < 1.0.\n",
    "rng = np.random.default_rng(seed=3080) # initiate random number generator\n",
    "zs = rng.random(200) # Make 100 random numbers between 0 and 1\n",
    "zs = np.sort(zs) # Sort them in ascending order (just for simplicity)\n",
    "zs = zs[np.where(zs > 0.02)] # Reject very low-redshifts. \n",
    "\n",
    "# Generate the corresponding distance moduli \n",
    "muperfect = dist_mod(zs, om=om, ox=ox, w0=w0, wa=wa, orr=orr)\n",
    "\n",
    "# Add error bars (they'll all be around muerr of 0.1, but with a scatter of about 0.05)\n",
    "muerr = 0.08+(rng.random(len(zs))-0.5)*0.05\n",
    "\n",
    "# Add scatter according to the size of the error bars\n",
    "muscatter = rng.standard_normal(len(zs))*muerr\n",
    "mu = muperfect+muscatter\n",
    "\n",
    "# Plot as a sanity check\n",
    "plt.errorbar(zs,mu,yerr=muerr,fmt='.')\n",
    "plt.show()"
   ]
  },
  {
   "cell_type": "markdown",
   "metadata": {},
   "source": [
    "### 4.4 Print file with data AND separate file saving the inputs"
   ]
  },
  {
   "cell_type": "code",
   "execution_count": 200,
   "metadata": {},
   "outputs": [],
   "source": [
    "data = np.zeros((len(zs),3)) # Set up an array with a row for each data point and 3 columns\n",
    "data[:,0]=zs\n",
    "data[:,1]=mu\n",
    "data[:,2]=muerr\n",
    "\n",
    "np.savetxt('data/'+model_name+'.txt', data, delimiter=',', fmt='%.6f, %.4f, %.4f', newline='\\n', header=model_name+'\\nzs, mu, muerr', comments='# ')\n",
    "\n",
    "with open('data/'+model_name+'_solutions.txt', 'w') as f:\n",
    "    f.write('Solutions for '+model_name+':\\n')\n",
    "    f.write('Omega M = %.2f\\n'%om)\n",
    "    f.write('Omega X = %.2f\\n'%ox)\n",
    "    f.write('Omega R = %.2f\\n'%orr)\n",
    "    f.write('w0 = %.2f\\n'%w0)\n",
    "    f.write('wa = %.2f'%wa)\n",
    "    f.close()"
   ]
  },
  {
   "cell_type": "markdown",
   "metadata": {},
   "source": [
    "### 4.5 This is a function that will read in that data"
   ]
  },
  {
   "cell_type": "code",
   "execution_count": 151,
   "metadata": {},
   "outputs": [],
   "source": [
    "def read_data(model_name):\n",
    "    d = np.genfromtxt(model_name+'.txt',delimiter=',')\n",
    "    zs = d[:,0]\n",
    "    mu = d[:,1]\n",
    "    muerr=d[:,2]\n",
    "    return zs, mu, muerr\n",
    "\n",
    "zs, mu, muerr = read_data(model_name)"
   ]
  }
 ],
 "metadata": {
  "kernelspec": {
   "display_name": "Python 3 (ipykernel)",
   "language": "python",
   "name": "python3"
  },
  "language_info": {
   "codemirror_mode": {
    "name": "ipython",
    "version": 3
   },
   "file_extension": ".py",
   "mimetype": "text/x-python",
   "name": "python",
   "nbconvert_exporter": "python",
   "pygments_lexer": "ipython3",
   "version": "3.7.13"
  }
 },
 "nbformat": 4,
 "nbformat_minor": 2
}
